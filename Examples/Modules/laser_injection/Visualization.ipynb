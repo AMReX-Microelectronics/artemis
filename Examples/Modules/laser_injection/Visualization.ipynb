{
 "cells": [
  {
   "cell_type": "markdown",
   "metadata": {},
   "source": [
    "# Overview\n",
    "\n",
    "This a notebook that inspects the results of a WarpX simulation.\n",
    "\n",
    "# Instruction\n",
    "\n",
    "Enter the path of the data you wish to visualize below. Then execute the cells one by one, by selecting them with your mouse and typing `Shift + Enter`"
   ]
  },
  {
   "cell_type": "code",
   "execution_count": null,
   "metadata": {},
   "outputs": [],
   "source": [
    "# Import statements\n",
    "import yt ; yt.funcs.mylog.setLevel(50)\n",
    "import numpy as np\n",
    "import scipy.constants as scc\n",
    "import matplotlib.pyplot as plt\n",
    "%matplotlib notebook"
   ]
  },
  {
   "cell_type": "markdown",
   "metadata": {},
   "source": [
    "## Read data in the simulation frame"
   ]
  },
  {
   "cell_type": "markdown",
   "metadata": {},
   "source": [
    "### Plot data with yt"
   ]
  },
  {
   "cell_type": "code",
   "execution_count": null,
   "metadata": {
    "scrolled": false
   },
   "outputs": [],
   "source": [
    "\n",
    "iteration = 100\n",
    "while iteration < 1020 :\n",
    "    ds = yt.load( './diags/plotfiles/plt'+str(iteration).zfill(5) ) # Create a dataset object\n",
    "    sl = yt.SlicePlot(ds, 1, 'Ey', aspect=1) # Create a sliceplot object\n",
    "    #sl.annotate_particles(width=(10.e-6, 'm'), p_size=2, ptype='beam', col='black')\n",
    "    #sl.annotate_grids() # Show grids\n",
    "    sl.set_zlim('Ey', -1e12, 1e12)\n",
    "    sl._setup_plots()\n",
    "    sl.set_font({'family': 'sans-serif', 'size': 28})\n",
    "    sl.show() # Show the plot\n",
    "    sl.save(str(iteration).zfill(5)+'.png')\n",
    "    iteration = iteration + 20"
   ]
  }
 ],
 "metadata": {
  "anaconda-cloud": {},
  "kernelspec": {
   "display_name": "Python 3",
   "language": "python",
   "name": "python3"
  },
  "language_info": {
   "codemirror_mode": {
    "name": "ipython",
    "version": 3
   },
   "file_extension": ".py",
   "mimetype": "text/x-python",
   "name": "python",
   "nbconvert_exporter": "python",
   "pygments_lexer": "ipython3",
   "version": "3.5.2"
  },
  "widgets": {
   "state": {
    "11d243e9f5074fe1b115949d174d59de": {
     "views": [
      {
       "cell_index": 6
      }
     ]
    }
   },
   "version": "1.2.0"
  }
 },
 "nbformat": 4,
 "nbformat_minor": 1
}
