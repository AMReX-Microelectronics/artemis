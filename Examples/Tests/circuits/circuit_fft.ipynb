{
 "cells": [
  {
   "cell_type": "markdown",
   "metadata": {},
   "source": [
    "# Overview\n",
    "\n",
    "This a notebook that inspects the results of a WarpX simulation.\n",
    "\n",
    "# Instruction\n",
    "\n",
    "Enter the path of the data you wish to visualize below. Then execute the cells one by one, by selecting them with your mouse and typing `Shift + Enter`"
   ]
  },
  {
   "cell_type": "code",
   "execution_count": 2,
   "metadata": {},
   "outputs": [],
   "source": [
    "# Import statements\n",
    "import yt ; yt.funcs.mylog.setLevel(50)\n",
    "import numpy as np\n",
    "import scipy.constants as scc\n",
    "from numpy import fft"
   ]
  },
  {
   "cell_type": "code",
   "execution_count": 5,
   "metadata": {},
   "outputs": [],
   "source": [
    "np.seterr(divide = 'ignore') \n",
    "diag_name = 'plt_spidernet0720_' # E.g., diagnostics.diags_names = diag"
   ]
  },
  {
   "cell_type": "code",
   "execution_count": 6,
   "metadata": {},
   "outputs": [],
   "source": [
    "j0 = 0; j1 = 2; dj = 1 # starting y index j0; ending y index j1; interval dj\n",
    "tn0 = 1000; tn1 = 100000; dnt = 1000 # starting t index t0; ending t index t1; interval dt\n",
    "\n",
    "for j in range(j0, j1, dj):\n",
    "    filename = 'Ez_CPW_j%d.dat' %j\n",
    "    f = open(filename, 'w') # writing mode\n",
    "    np.savetxt(f, [])"
   ]
  },
  {
   "cell_type": "markdown",
   "metadata": {},
   "source": [
    "### Color plot using yt ; Meanwhile, save data using numpy "
   ]
  },
  {
   "cell_type": "code",
   "execution_count": 7,
   "metadata": {},
   "outputs": [
    {
     "data": {
      "text/plain": [
       "[('boxlib', 'Bx'),\n",
       " ('boxlib', 'By'),\n",
       " ('boxlib', 'Bz'),\n",
       " ('boxlib', 'Ex'),\n",
       " ('boxlib', 'Ey'),\n",
       " ('boxlib', 'Ez')]"
      ]
     },
     "execution_count": 7,
     "metadata": {},
     "output_type": "execute_result"
    }
   ],
   "source": [
    "j0 = 0; j1 = 2; dj = 1 # starting y index j0; ending y index j1; interval dj\n",
    "tn0 = 1000; tn1 = 100000; dnt = 1000 # starting t index t0; ending t index t1; interval dt\n",
    "\n",
    "dt = 2.948161989e-15\n",
    "\n",
    "for iteration in range (tn0, tn1, dnt) : # time step\n",
    "    plotfile = './diags/{}{:05d}'.format(diag_name, iteration)\n",
    "    ds = yt.load( plotfile ) # Load the plotfile\n",
    "    #ad0 = ds.covering_grid(level=0, left_edge=ds.domain_left_edge, dims=ds.domain_dimensions)\n",
    "    ad0 = ds.covering_grid(level=0, left_edge=[ 0., -1.375e-2, 0.], dims=[ 2, 2, 2]) \n",
    "    y_array = ad0['y'].to_ndarray()\n",
    "    Ez_array = ad0['Ez'].to_ndarray()\n",
    "    for j in range(j0, j1, dj):\n",
    "        data = np.column_stack((dt * iteration, Ez_array[1,j,1]))\n",
    "        filename = 'Ez_CPW_j%d.dat' %j\n",
    "        f = open(filename, 'a') # writing mode\n",
    "        np.savetxt(f, data)\n",
    "        f.close()\n",
    "        # plot\n",
    "        if j == j1+dj: # don't want to plot...\n",
    "                sl = yt.SlicePlot(ds, 1, field, origin='native', aspect=200./1) # Create a sliceplot object\n",
    "                sl.set_zlim('Ez', -1e0, 1e0)\n",
    "                sl.set_log('Ez', False)\n",
    "                sl._setup_plots()\n",
    "                sl.set_font({'family': 'sans-serif', 'size': 20})\n",
    "                sl.show() # Show the plot\n",
    "                sl.save(str(iteration).zfill(5)+'.png')\n",
    "        # print(k, iteration)\n",
    "        \n",
    "ds.field_list # Print all available quantities\n"
   ]
  },
  {
   "cell_type": "code",
   "execution_count": 9,
   "metadata": {},
   "outputs": [
    {
     "data": {
      "text/plain": [
       "Text(0.5, 0, 'time in second')"
      ]
     },
     "execution_count": 9,
     "metadata": {},
     "output_type": "execute_result"
    },
    {
     "data": {
      "image/png": "[encoded data removed]",
      "text/plain": [
       "<Figure size 720x360 with 1 Axes>"
      ]
     },
     "metadata": {
      "needs_background": "light"
     },
     "output_type": "display_data"
    }
   ],
   "source": [
    "import matplotlib.pyplot as plt\n",
    "from matplotlib import rcParams\n",
    "rcParams['figure.figsize'] = 10, 5\n",
    "\n",
    "j = 0\n",
    "data = np.loadtxt('./Ez_CPW_j%d.dat' %j) \n",
    "nt = data[:, 0]\n",
    "Ez = data[:, 1]\n",
    "plt.plot(nt, Ez)\n",
    "plt.grid(True, color='k', linestyle=':')\n",
    "plt.title(\"Ez\")\n",
    "plt.xlabel(\"time in second\")"
   ]
  },
  {
   "cell_type": "markdown",
   "metadata": {},
   "source": [
    "### FFT in time domain"
   ]
  },
  {
   "cell_type": "code",
   "execution_count": 19,
   "metadata": {},
   "outputs": [
    {
     "name": "stdout",
     "output_type": "stream",
     "text": [
      "99\n",
      "2.9481619889999997e-12\n"
     ]
    }
   ],
   "source": [
    "import math\n",
    "Nt = math.floor((tn1-tn0)/dnt)    # Number of data points in input\n",
    "dt_scaled = dt*dnt    # Sampling period (in meters)\n",
    "\n",
    "Fk = fft.fft(Ez)/Nt    # Fourier coefficients (divided by n)\n",
    "\n",
    "nu = fft.fftfreq(Nt,dt)  # Natural frequencies\n",
    "\n",
    "Fk= fft.fftshift(Fk)   # Shift zero freq to center\n",
    "nu = fft.fftshift(nu)   # Shift zero freq to center\n",
    "\n",
    "print(Nt)\n",
    "print(dt_scaled)"
   ]
  },
  {
   "cell_type": "code",
   "execution_count": 17,
   "metadata": {},
   "outputs": [
    {
     "data": {
      "image/png": "[encoded data removed]",
      "text/plain": [
       "<Figure size 720x360 with 3 Axes>"
      ]
     },
     "metadata": {
      "needs_background": "light"
     },
     "output_type": "display_data"
    }
   ],
   "source": [
    "Fk= fft.fftshift(Fk)   # Shift zero freq to center\n",
    "nu = fft.fftshift(nu)   # Shift zero freq to center\n",
    "\n",
    "f, ax = plt.subplots(3,1,sharex=True)\n",
    "ax[0].plot(nu, np.real(Fk))         # Plot Cosine terms\n",
    "ax[0].set_ylabel(r'$Re[F_k]$', size = 'x-large')\n",
    "ax[1].plot(nu, np.imag(Fk))         # Plot Sine terms\n",
    "ax[1].set_ylabel(r'$Im[F_k]$', size = 'x-large')\n",
    "ax[2].plot(nu, np.absolute(Fk)**2)  # Plot spectral power\n",
    "# ax[2].set_ylabel(r'$\\vertF_k\\vert^2$', size = 'x-large')\n",
    "# ax[2].set_xlabel(r'$\\widetilde{\\nu}$', size = 'x-large')\n",
    "# plt.xlim((-10e9,10e9))\n",
    "plt.show()"
   ]
  },
  {
   "cell_type": "code",
   "execution_count": null,
   "metadata": {},
   "outputs": [],
   "source": []
  }
 ],
 "metadata": {
  "anaconda-cloud": {},
  "kernelspec": {
   "display_name": "MyCondaEnv-jupyter",
   "language": "python",
   "name": "mycondaenv-jupyter"
  },
  "language_info": {
   "codemirror_mode": {
    "name": "ipython",
    "version": 3
   },
   "file_extension": ".py",
   "mimetype": "text/x-python",
   "name": "python",
   "nbconvert_exporter": "python",
   "pygments_lexer": "ipython3",
   "version": "3.7.9"
  },
  "widgets": {
   "state": {
    "11d243e9f5074fe1b115949d174d59de": {
     "views": [
      {
       "cell_index": 6
      }
     ]
    }
   },
   "version": "1.2.0"
  }
 },
 "nbformat": 4,
 "nbformat_minor": 4
}
