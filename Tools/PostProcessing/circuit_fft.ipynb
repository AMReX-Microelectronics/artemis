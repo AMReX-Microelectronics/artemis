{
 "cells": [
  {
   "cell_type": "markdown",
   "metadata": {},
   "source": [
    "# Overview\n",
    "\n",
    "This a notebook that \n",
    "1. inspects the results of a WarpX simulation\n",
    "2. generates data files at different spatial locations, each file containing two columns: time sequence and field values\n",
    "3. does fft of the field \n",
    "\n",
    "# Instruction\n",
    "\n",
    "Enter the path of the data you wish to visualize below. Then execute the cells one by one, by selecting them with your mouse and typing `Shift + Enter`"
   ]
  },
  {
   "cell_type": "code",
   "execution_count": null,
   "metadata": {},
   "outputs": [],
   "source": [
    "# Import statements\n",
    "import yt ; yt.funcs.mylog.setLevel(50)\n",
    "import numpy as np\n",
    "import scipy.constants as scc\n",
    "from numpy import fft\n",
    "import matplotlib.pyplot as plt\n",
    "from matplotlib import rcParams\n",
    "import math"
   ]
  },
  {
   "cell_type": "markdown",
   "metadata": {},
   "source": [
    "### Define plotfile name"
   ]
  },
  {
   "cell_type": "code",
   "execution_count": null,
   "metadata": {},
   "outputs": [],
   "source": [
    "np.seterr(divide = 'ignore') \n",
    "diag_name = 'plt_spidernet0720_' # E.g., diagnostics.diags_names = diag"
   ]
  },
  {
   "cell_type": "markdown",
   "metadata": {},
   "source": [
    "### Initialize data files to be written in"
   ]
  },
  {
   "cell_type": "code",
   "execution_count": null,
   "metadata": {},
   "outputs": [],
   "source": [
    "j0 = 0; j1 = 2; dj = 1 # starting y index j0; ending y index j1; interval dj\n",
    "tn0 = 1000; tn1 = 100000; dnt = 1000 # starting t index tn0; ending t index tn1; interval dnt\n",
    "\n",
    "for j in range(j0, j1, dj):\n",
    "    filename = 'Ez_CPW_j%d.dat' %j\n",
    "    f = open(filename, 'w') # writing mode\n",
    "    np.savetxt(f, [])"
   ]
  },
  {
   "cell_type": "markdown",
   "metadata": {},
   "source": [
    "### Save data into the data files using numpy "
   ]
  },
  {
   "cell_type": "code",
   "execution_count": null,
   "metadata": {},
   "outputs": [],
   "source": [
    "dt = 2.948161989e-15\n",
    "\n",
    "# path_to_output = '/path'\n",
    "# plotfile = path_to_output+'{}{:05d}'.format(diag_name,iteration)\n",
    "\n",
    "for iteration in range (tn0, tn1, dnt) : # time step\n",
    "    plotfile = './diags/{}{:05d}'.format(diag_name, iteration)\n",
    "    ds = yt.load( plotfile ) # Load the plotfile\n",
    "    #ad0 = ds.covering_grid(level=0, left_edge=ds.domain_left_edge, dims=ds.domain_dimensions)\n",
    "    ad0 = ds.covering_grid(level=0, left_edge=[ 0., -1.375e-2, 0.], dims=[ 2, 2, 2]) \n",
    "    y_array = ad0['y'].to_ndarray()\n",
    "    Ez_array = ad0['Ez'].to_ndarray()\n",
    "    for j in range(j0, j1, dj):\n",
    "        data = np.column_stack((dt * iteration, Ez_array[1,j,1]))\n",
    "        filename = 'Ez_CPW_j%d.dat' %j\n",
    "        f = open(filename, 'a') # writing mode\n",
    "        np.savetxt(f, data)\n",
    "        f.close()\n",
    "        \n",
    "ds.field_list # Print all available quantities\n"
   ]
  },
  {
   "cell_type": "markdown",
   "metadata": {},
   "source": [
    "### Read field from data files and plot field as a function time"
   ]
  },
  {
   "cell_type": "code",
   "execution_count": null,
   "metadata": {},
   "outputs": [],
   "source": [
    "rcParams['figure.figsize'] = 10, 5\n",
    "\n",
    "j = 0\n",
    "data = np.loadtxt('./Ez_CPW_j%d.dat' %j) \n",
    "nt = data[:, 0]\n",
    "Ez = data[:, 1]\n",
    "plt.plot(nt, Ez)\n",
    "plt.grid(True, color='k', linestyle=':')\n",
    "plt.title(\"Ez\")\n",
    "plt.xlabel(\"time in second\")"
   ]
  },
  {
   "cell_type": "markdown",
   "metadata": {},
   "source": [
    "### FFT in time domain"
   ]
  },
  {
   "cell_type": "code",
   "execution_count": null,
   "metadata": {},
   "outputs": [],
   "source": [
    "nt_scaled = math.floor((tn1-tn0)/dnt)    # Number of data points in input\n",
    "dt_scaled = dt*dnt    # Sampling period (in meters)\n",
    "\n",
    "Ez_freq = fft.fft(Ez)/nt_scaled    # Fourier coefficients (divided by n)\n",
    "\n",
    "freq = fft.fftfreq(nt_scaled,dt_scaled)  # Natural frequencies\n",
    "\n",
    "Ez_freq = fft.fftshift(Ez_freq)   # Shift zero freq to center\n",
    "freq = fft.fftshift(freq)   # Shift zero freq to center\n"
   ]
  },
  {
   "cell_type": "markdown",
   "metadata": {},
   "source": [
    "### Plot frequency-domain field values"
   ]
  },
  {
   "cell_type": "code",
   "execution_count": null,
   "metadata": {},
   "outputs": [],
   "source": [
    "f, ax = plt.subplots(3,1,sharex=True)\n",
    "ax[0].plot(freq, np.real(Ez_freq))         # Plot Cosine terms\n",
    "ax[0].set_ylabel(r'$Re[Ez(f)]$', size = 'x-large')\n",
    "ax[1].plot(freq, np.imag(Ez_freq))         # Plot Sine terms\n",
    "ax[1].set_ylabel(r'$Im[Ez(f)]$', size = 'x-large')\n",
    "ax[2].plot(freq, np.absolute(Ez_freq))  # Plot spectral power\n",
    "ax[2].set_ylabel(r'$|Ez(f)|$', size = 'x-large')\n",
    "ax[2].set_xlabel(r'$frequency(Hz)$', size = 'x-large')\n",
    "plt.xlim((-10e9,10e9))\n",
    "plt.show()"
   ]
  },
  {
   "cell_type": "code",
   "execution_count": null,
   "metadata": {},
   "outputs": [],
   "source": []
  }
 ],
 "metadata": {
  "anaconda-cloud": {},
  "kernelspec": {
   "display_name": "MyCondaEnv-jupyter",
   "language": "python",
   "name": "mycondaenv-jupyter"
  },
  "language_info": {
   "codemirror_mode": {
    "name": "ipython",
    "version": 3
   },
   "file_extension": ".py",
   "mimetype": "text/x-python",
   "name": "python",
   "nbconvert_exporter": "python",
   "pygments_lexer": "ipython3",
   "version": "3.7.9"
  },
  "widgets": {
   "state": {
    "11d243e9f5074fe1b115949d174d59de": {
     "views": [
      {
       "cell_index": 6
      }
     ]
    }
   },
   "version": "1.2.0"
  }
 },
 "nbformat": 4,
 "nbformat_minor": 4
}
